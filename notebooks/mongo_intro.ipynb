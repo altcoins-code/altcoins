{
 "cells": [
  {
   "cell_type": "code",
   "execution_count": 2,
   "metadata": {
    "collapsed": false,
    "deletable": true,
    "editable": true
   },
   "outputs": [],
   "source": [
    "import pymongo\n",
    "import pprint\n",
    "import datetime\n",
    "# connect to mongo and select db\n",
    "# client = pymongo.MongoClient(\"localhost\", 27017)\n",
    "client = pymongo.MongoClient('10.0.75.1', 27017) # docker\n",
    "\n",
    "db = client.coins\n",
    "# client.drop_database('cryptocurrency')\n",
    "\n"
   ]
  },
  {
   "cell_type": "code",
   "execution_count": 3,
   "metadata": {
    "collapsed": false,
    "deletable": true,
    "editable": true
   },
   "outputs": [
    {
     "name": "stdout",
     "output_type": "stream",
     "text": [
      "datetime.datetime(2017, 6, 24, 9, 49, 7, 785000)\n",
      "2017-06-24 09:49:07.785000\n",
      "datetime.datetime(2017, 6, 24, 9, 58, 50, 304000)\n",
      "2017-06-24 09:58:50.304000\n",
      "datetime.datetime(2017, 6, 24, 10, 18, 8, 833000)\n",
      "2017-06-24 10:18:08.833000\n",
      "datetime.datetime(2017, 6, 24, 10, 38, 1, 785000)\n",
      "2017-06-24 10:38:01.785000\n",
      "datetime.datetime(2017, 6, 24, 10, 58, 5, 938000)\n",
      "2017-06-24 10:58:05.938000\n",
      "datetime.datetime(2017, 6, 24, 11, 18, 11, 892000)\n",
      "2017-06-24 11:18:11.892000\n",
      "datetime.datetime(2017, 6, 24, 11, 38, 16, 223000)\n",
      "2017-06-24 11:38:16.223000\n",
      "datetime.datetime(2017, 6, 24, 11, 58, 20, 185000)\n",
      "2017-06-24 11:58:20.185000\n",
      "datetime.datetime(2017, 6, 24, 12, 18, 24, 344000)\n",
      "2017-06-24 12:18:24.344000\n",
      "datetime.datetime(2017, 6, 24, 12, 38, 40, 178000)\n",
      "2017-06-24 12:38:40.178000\n",
      "datetime.datetime(2017, 6, 24, 12, 58, 44, 279000)\n",
      "2017-06-24 12:58:44.279000\n",
      "datetime.datetime(2017, 6, 24, 13, 18, 48, 339000)\n",
      "2017-06-24 13:18:48.339000\n",
      "datetime.datetime(2017, 6, 24, 13, 38, 52, 709000)\n",
      "2017-06-24 13:38:52.709000\n",
      "datetime.datetime(2017, 6, 24, 13, 59, 58, 691000)\n",
      "2017-06-24 13:59:58.691000\n",
      "datetime.datetime(2017, 6, 24, 14, 19, 57, 735000)\n",
      "2017-06-24 14:19:57.735000\n",
      "datetime.datetime(2017, 6, 24, 14, 40, 1, 765000)\n",
      "2017-06-24 14:40:01.765000\n",
      "datetime.datetime(2017, 6, 24, 15, 0, 6, 162000)\n",
      "2017-06-24 15:00:06.162000\n",
      "datetime.datetime(2017, 6, 24, 15, 20, 10, 234000)\n",
      "2017-06-24 15:20:10.234000\n",
      "datetime.datetime(2017, 6, 24, 15, 40, 14, 313000)\n",
      "2017-06-24 15:40:14.313000\n",
      "datetime.datetime(2017, 6, 24, 16, 0, 30, 500000)\n",
      "2017-06-24 16:00:30.500000\n",
      "datetime.datetime(2017, 6, 24, 16, 20, 34, 931000)\n",
      "2017-06-24 16:20:34.931000\n",
      "datetime.datetime(2017, 6, 24, 16, 40, 38, 984000)\n",
      "2017-06-24 16:40:38.984000\n",
      "datetime.datetime(2017, 6, 24, 17, 0, 43, 76000)\n",
      "2017-06-24 17:00:43.076000\n",
      "datetime.datetime(2017, 6, 24, 17, 20, 36, 1000)\n",
      "2017-06-24 17:20:36.001000\n",
      "datetime.datetime(2017, 6, 24, 17, 40, 40, 469000)\n",
      "2017-06-24 17:40:40.469000\n",
      "datetime.datetime(2017, 6, 24, 18, 0, 46, 852000)\n",
      "2017-06-24 18:00:46.852000\n",
      "datetime.datetime(2017, 6, 24, 18, 20, 57, 272000)\n",
      "2017-06-24 18:20:57.272000\n",
      "datetime.datetime(2017, 6, 24, 18, 41, 8, 397000)\n",
      "2017-06-24 18:41:08.397000\n",
      "datetime.datetime(2017, 6, 24, 19, 1, 12, 836000)\n",
      "2017-06-24 19:01:12.836000\n",
      "datetime.datetime(2017, 6, 24, 19, 21, 29, 482000)\n",
      "2017-06-24 19:21:29.482000\n",
      "datetime.datetime(2017, 6, 24, 19, 41, 25, 248000)\n",
      "2017-06-24 19:41:25.248000\n",
      "datetime.datetime(2017, 6, 24, 20, 1, 28, 442000)\n",
      "2017-06-24 20:01:28.442000\n",
      "datetime.datetime(2017, 6, 24, 20, 21, 36, 796000)\n",
      "2017-06-24 20:21:36.796000\n",
      "datetime.datetime(2017, 6, 24, 20, 41, 40, 812000)\n",
      "2017-06-24 20:41:40.812000\n",
      "datetime.datetime(2017, 6, 24, 21, 1, 44, 955000)\n",
      "2017-06-24 21:01:44.955000\n",
      "datetime.datetime(2017, 6, 24, 21, 21, 49, 206000)\n",
      "2017-06-24 21:21:49.206000\n",
      "datetime.datetime(2017, 6, 24, 21, 41, 53, 773000)\n",
      "2017-06-24 21:41:53.773000\n",
      "datetime.datetime(2017, 6, 24, 22, 1, 58, 102000)\n",
      "2017-06-24 22:01:58.102000\n",
      "datetime.datetime(2017, 6, 24, 22, 22, 2, 279000)\n",
      "2017-06-24 22:22:02.279000\n",
      "datetime.datetime(2017, 6, 24, 22, 42, 19, 51000)\n",
      "2017-06-24 22:42:19.051000\n",
      "datetime.datetime(2017, 6, 24, 23, 2, 23, 280000)\n",
      "2017-06-24 23:02:23.280000\n",
      "datetime.datetime(2017, 6, 24, 23, 22, 27, 863000)\n",
      "2017-06-24 23:22:27.863000\n",
      "datetime.datetime(2017, 6, 24, 23, 42, 32, 743000)\n",
      "2017-06-24 23:42:32.743000\n",
      "datetime.datetime(2017, 6, 25, 0, 2, 39, 2000)\n",
      "2017-06-25 00:02:39.002000\n",
      "datetime.datetime(2017, 6, 25, 0, 22, 34, 979000)\n",
      "2017-06-25 00:22:34.979000\n",
      "datetime.datetime(2017, 6, 25, 0, 42, 35, 702000)\n",
      "2017-06-25 00:42:35.702000\n",
      "datetime.datetime(2017, 6, 25, 1, 2, 40, 312000)\n",
      "2017-06-25 01:02:40.312000\n",
      "datetime.datetime(2017, 6, 25, 1, 22, 44, 753000)\n",
      "2017-06-25 01:22:44.753000\n",
      "datetime.datetime(2017, 6, 25, 1, 42, 49, 310000)\n",
      "2017-06-25 01:42:49.310000\n",
      "datetime.datetime(2017, 6, 25, 2, 3, 6, 343000)\n",
      "2017-06-25 02:03:06.343000\n",
      "datetime.datetime(2017, 6, 25, 2, 23, 10, 573000)\n",
      "2017-06-25 02:23:10.573000\n"
     ]
    }
   ],
   "source": [
    "for post in db.timeseries.find():\n",
    "    pprint.pprint(post['date'])\n",
    "    print(str(post['date']))"
   ]
  },
  {
   "cell_type": "code",
   "execution_count": null,
   "metadata": {
    "collapsed": false,
    "deletable": true,
    "editable": true
   },
   "outputs": [],
   "source": [
    "### Add remove collections of docs\n",
    "\n",
    "# db.create_collection('timeseries')\n",
    "# db.drop_collection('timeseries')\n",
    "\n",
    "### Get collection names\n",
    "db.collection_names()\n"
   ]
  },
  {
   "cell_type": "code",
   "execution_count": null,
   "metadata": {
    "collapsed": false,
    "deletable": true,
    "editable": true
   },
   "outputs": [],
   "source": [
    "# Insert\n",
    "\n",
    "from datetime import datetime\n",
    "d = {'date': datetime.utcnow(), 'data' :{'name': 'you', 'value': -5}}\n",
    "db.timeseries.insert_one(d)\n"
   ]
  },
  {
   "cell_type": "code",
   "execution_count": null,
   "metadata": {
    "collapsed": false,
    "deletable": true,
    "editable": true
   },
   "outputs": [],
   "source": [
    "# Find recent\n",
    "pprint.pprint(db.timeseries.find_one())\n",
    "\n",
    "# Find specific\n",
    "d = db.timeseries.find_one({\"date\": datetime.datetime(2017, 6, 24, 10, 18, 8, 833000)})"
   ]
  }
 ],
 "metadata": {
  "kernelspec": {
   "display_name": "Python 3",
   "language": "python",
   "name": "python3"
  },
  "language_info": {
   "codemirror_mode": {
    "name": "ipython",
    "version": 3
   },
   "file_extension": ".py",
   "mimetype": "text/x-python",
   "name": "python",
   "nbconvert_exporter": "python",
   "pygments_lexer": "ipython3",
   "version": "3.5.2"
  }
 },
 "nbformat": 4,
 "nbformat_minor": 2
}
